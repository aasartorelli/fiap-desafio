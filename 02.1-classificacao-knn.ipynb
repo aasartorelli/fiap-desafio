{
 "cells": [
  {
   "cell_type": "code",
   "execution_count": 47,
   "metadata": {},
   "outputs": [],
   "source": [
    "import pandas as pd\n",
    "import numpy as np\n",
    "import seaborn as sb\n",
    "import matplotlib.pyplot as plt\n",
    "from sklearn.preprocessing import StandardScaler, MinMaxScaler\n",
    "from sklearn.model_selection import train_test_split\n",
    "from sklearn import metrics \n",
    "from sklearn.metrics import classification_report, plot_confusion_matrix, accuracy_score\n",
    "from sklearn.metrics import confusion_matrix\n",
    "from sklearn.svm import SVC\n",
    "from sklearn.model_selection import GridSearchCV\n",
    "from sklearn.neighbors import KNeighborsClassifier"
   ]
  },
  {
   "cell_type": "code",
   "execution_count": 48,
   "metadata": {},
   "outputs": [],
   "source": [
    "# carrega o dataset\n",
    "dataset = pd.read_csv('01.1-clusterizacao-kmeans.csv', delimiter=';', decimal=',')\n",
    "\n",
    "faturamentoBruto = dataset['faturamentoBruto']\n",
    "margemBruta = dataset['margemBruta']\n",
    "restricoes = dataset['restricoes']\n",
    "cluster = dataset[\"cluster\"]\n",
    "\n",
    "dataset_norm = pd.concat([faturamentoBruto, margemBruta, restricoes], axis=1)\n",
    "\n",
    "scaler = MinMaxScaler()\n",
    "dataset_norm = scaler.fit_transform(dataset_norm)\n",
    "dataset_norm = pd.DataFrame(dataset_norm, columns = ['faturamentoBruto','margemBruta','restricoes'])\n",
    "dataset_norm = pd.concat([dataset_norm, cluster], axis=1)\n",
    "\n",
    "# print(dataset.head())"
   ]
  },
  {
   "cell_type": "code",
   "execution_count": 49,
   "metadata": {},
   "outputs": [
    {
     "data": {
      "text/plain": [
       "<AxesSubplot:xlabel='cluster', ylabel='count'>"
      ]
     },
     "execution_count": 49,
     "metadata": {},
     "output_type": "execute_result"
    },
    {
     "data": {
      "image/png": "[encoded data removed]",
      "text/plain": [
       "<Figure size 432x288 with 1 Axes>"
      ]
     },
     "metadata": {
      "needs_background": "light"
     },
     "output_type": "display_data"
    }
   ],
   "source": [
    "sb.countplot(x='cluster', data=dataset, palette='hls')"
   ]
  },
  {
   "cell_type": "code",
   "execution_count": 59,
   "metadata": {},
   "outputs": [
    {
     "name": "stdout",
     "output_type": "stream",
     "text": [
      "              precision    recall  f1-score   support\n",
      "\n",
      "           0       1.00      1.00      1.00      1288\n",
      "           1       1.00      1.00      1.00       133\n",
      "           2       1.00      1.00      1.00         5\n",
      "           3       1.00      1.00      1.00         7\n",
      "\n",
      "    accuracy                           1.00      1433\n",
      "   macro avg       1.00      1.00      1.00      1433\n",
      "weighted avg       1.00      1.00      1.00      1433\n",
      "\n",
      "1.0\n"
     ]
    },
    {
     "data": {
      "image/png": "[encoded data removed]",
      "text/plain": [
       "<Figure size 432x288 with 2 Axes>"
      ]
     },
     "metadata": {
      "needs_background": "light"
     },
     "output_type": "display_data"
    }
   ],
   "source": [
    "dataset0 = dataset_norm[(dataset_norm['cluster'] == 0)]\n",
    "dataset1 = dataset_norm[(dataset_norm['cluster'] == 1)]\n",
    "dataset2 = dataset_norm[(dataset_norm['cluster'] == 2)]\n",
    "dataset3 = dataset_norm[(dataset_norm['cluster'] == 3)]\n",
    "\n",
    "X0 = dataset0.iloc[:,[0,1,2]].values\n",
    "y0 = dataset0.iloc[:,3].values\n",
    "X0_train, X0_test, y0_train, y0_test = train_test_split(X0, y0, test_size=.3, random_state=25)\n",
    "\n",
    "X1 = dataset1.iloc[:,[0,1,2]].values\n",
    "y1 = dataset1.iloc[:,3].values\n",
    "X1_train, X1_test, y1_train, y1_test = train_test_split(X1, y1, test_size=.3, random_state=25)\n",
    "\n",
    "X2 = dataset2.iloc[:,[0,1,2]].values\n",
    "y2 = dataset2.iloc[:,3].values\n",
    "X2_train, X2_test, y2_train, y2_test = train_test_split(X2, y2, test_size=.3, random_state=25)\n",
    "\n",
    "X3 = dataset3.iloc[:,[0,1,2]].values\n",
    "y3 = dataset3.iloc[:,3].values\n",
    "X3_train, X3_test, y3_train, y3_test = train_test_split(X3, y3, test_size=.3, random_state=25)\n",
    "\n",
    "X_train = np.concatenate([X0_train, X1_train, X2_train, X3_train], axis=0)\n",
    "X_test = np.concatenate([X0_test, X1_test, X2_test, X3_test], axis=0)\n",
    "y_train = np.concatenate([y0_train, y1_train, y2_train, y3_train], axis=0)\n",
    "y_test = np.concatenate([y0_test, y1_test, y2_test, y3_test], axis=0)\n",
    "\n",
    "Classif_KNN = KNeighborsClassifier(n_neighbors=4)\n",
    "Classif_KNN.fit(X_train, y_train)\n",
    "y_pred = Classif_KNN.predict(X_test)\n",
    "\n",
    "from sklearn.metrics import confusion_matrix\n",
    "# cm = confusion_matrix(y_test, y_pred)\n",
    "\n",
    "# plot_confusion_matrix(Classif_KNN, X_test, y_test, normalize = 'true')\n",
    "\n",
    "# print(classification_report(y_test, y_pred))\n",
    "# print(accuracy_score(y_test, y_pred))\n",
    "#0.7790262172284644\n",
    "\n",
    "\n",
    "# testa do K=1 até K=26\n",
    "# k_range = range(1, 26)\n",
    "\n",
    "# Lista todas as acurácias\n",
    "# scores = []\n",
    "\n",
    "# Faz um loop de 1 a 26 armazena no dicionário scores\n",
    "# for k in k_range:\n",
    "#     knn = KNeighborsClassifier(n_neighbors=k)\n",
    "#     knn.fit(X_train, y_train)\n",
    "#     y_pred = knn.predict(X_test)\n",
    "#     scores.append(accuracy_score(y_test, y_pred))\n",
    "\n",
    "# print(scores)\n",
    "#Plota os valores de acc. em função do valor escolhido de K\n",
    "# plt.plot(k_range, scores)\n",
    "# plt.xlabel('Value of K for KNN')\n",
    "# plt.ylabel('Testing Accuracy')\n",
    "\n",
    "#Avaliando a melhor configuração de KNN\n",
    "best_KNN = KNeighborsClassifier(n_neighbors=3) # 3\n",
    "best_KNN.fit(X_train, y_train)\n",
    "y_pred = best_KNN.predict(X_test)\n",
    "\n",
    "from sklearn.metrics import confusion_matrix\n",
    "cm = confusion_matrix(y_test, y_pred)\n",
    "\n",
    "plot_confusion_matrix(best_KNN, X_test, y_test, normalize = 'true')\n",
    "\n",
    "print(classification_report(y_test, y_pred))\n",
    "print(accuracy_score(y_test, y_pred))"
   ]
  },
  {
   "cell_type": "code",
   "execution_count": null,
   "metadata": {},
   "outputs": [],
   "source": []
  }
 ],
 "metadata": {
  "kernelspec": {
   "display_name": "Python 3",
   "language": "python",
   "name": "python3"
  },
  "language_info": {
   "codemirror_mode": {
    "name": "ipython",
    "version": 3
   },
   "file_extension": ".py",
   "mimetype": "text/x-python",
   "name": "python",
   "nbconvert_exporter": "python",
   "pygments_lexer": "ipython3",
   "version": "3.8.5"
  }
 },
 "nbformat": 4,
 "nbformat_minor": 4
}
